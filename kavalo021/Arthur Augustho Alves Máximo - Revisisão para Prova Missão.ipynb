{
 "cells": [
  {
   "cell_type": "markdown",
   "id": "f445e552",
   "metadata": {},
   "source": [
    "### 🧪 Revisão de prova - Missão: Condicionais 🤖\n",
    "\n",
    "Você está sendo avaliado(a) em sua habilidade de tomar decisões automatizadas por meio de códigos. Em cada uma das atividades a seguir, use estruturas condicionais com sabedoria."
   ]
  },
  {
   "cell_type": "markdown",
   "id": "769337a0",
   "metadata": {},
   "source": [
    "### ⚖️ Desafio 01 - Avaliação de Desempenho na Agência 🧾 (Usando if, múltiplos elif e else)"
   ]
  },
  {
   "cell_type": "markdown",
   "id": "14f80018",
   "metadata": {},
   "source": [
    "O Sistema de Avaliação da Agência Central de Inteligência precisa classificar os agentes de acordo com sua nota final. Sua missão é automatizar esse processo."
   ]
  },
  {
   "cell_type": "markdown",
   "id": "89f6fff0",
   "metadata": {},
   "source": [
    "🎯 Objetivo:\n",
    "Solicitar o nome do agente e sua nota final (0 a 10).\n",
    "Exibir a classificação:"
   ]
  },
  {
   "cell_type": "markdown",
   "id": "234495dd",
   "metadata": {},
   "source": [
    "Solicitar o nome do agente e sua nota final (0 a 10).\n",
    "Exibir a classificação:\n",
    "\n",
    "Nota\tClassificação\n",
    "\n",
    "9.0 a 10.0\tExcelente 🏅\n",
    "\n",
    "7.0 a 8.9\tBom 👍\n",
    "\n",
    "5.0 a 6.9\tRegular ⚠️\n",
    "\n",
    "3.0 a 4.9\tRuim 🚫\n",
    "\n",
    "0.0 a 2.9\tCrítico 🚨\n",
    "Fora do intervalo\tNota inválida ❌\n"
   ]
  },
  {
   "cell_type": "markdown",
   "id": "41369ade",
   "metadata": {},
   "source": [
    "Exibir mensagem:\n",
    "\"Agente [NOME], sua classificação é: [classificação] (nota: [nota])\"\n"
   ]
  },
  {
   "cell_type": "markdown",
   "id": "bd552298",
   "metadata": {},
   "source": [
    "📦 Instruções Gerais\n",
    "\n",
    "Mantenha seu código indentado corretamente e com prints claros.\n",
    "Personalize a saída sempre que possível usando o nome do usuário.\n"
   ]
  },
  {
   "cell_type": "markdown",
   "id": "e540ea62",
   "metadata": {},
   "source": [
    "Boa sorte nas decisões lógicas, agente.\n",
    "A sua capacidade de condicionar pode alterar o curso do código.\n"
   ]
  },
  {
   "cell_type": "code",
   "execution_count": null,
   "id": "77ac96b4",
   "metadata": {},
   "outputs": [
    {
     "ename": "NameError",
     "evalue": "name 'floot' is not defined",
     "output_type": "error",
     "traceback": [
      "\u001b[31m---------------------------------------------------------------------------\u001b[39m",
      "\u001b[31mNameError\u001b[39m                                 Traceback (most recent call last)",
      "\u001b[36mCell\u001b[39m\u001b[36m \u001b[39m\u001b[32mIn[7]\u001b[39m\u001b[32m, line 2\u001b[39m\n\u001b[32m      1\u001b[39m nota = \u001b[38;5;28minput\u001b[39m(\u001b[33m\"\u001b[39m\u001b[33mdigite sua nota \u001b[39m\u001b[33m\"\u001b[39m)\n\u001b[32m----> \u001b[39m\u001b[32m2\u001b[39m meta = \u001b[43mfloot\u001b[49m(\u001b[38;5;28minput\u001b[39m(\u001b[33m\"\u001b[39m\u001b[33mqual a sua nota \u001b[39m\u001b[33m\"\u001b[39m))\n\u001b[32m      4\u001b[39m \u001b[38;5;28;01mif\u001b[39;00m nota > \u001b[32m9.8\u001b[39m \u001b[38;5;129;01mand\u001b[39;00m nota <=\u001b[32m10.0\u001b[39m:\n\u001b[32m      5\u001b[39m         \u001b[38;5;28mprint\u001b[39m(\u001b[33m\"\u001b[39m\u001b[33mExcelente 🏅\u001b[39m\u001b[33m\"\u001b[39m)\n",
      "\u001b[31mNameError\u001b[39m: name 'floot' is not defined"
     ]
    }
   ],
   "source": [
    "nota = input(\"digite sua nota \")\n",
    "meta = float(input(\"qual a sua nota \"))\n",
    "\n",
    "if nota > 9.8 and nota <=10.0:\n",
    "        print(\"Excelente 🏅\")\n",
    "elif nota > 7.0 and nota <=8.9:\n",
    "        print(\"Bom 👍\")\n",
    "elif nota > 5.0 and nota <=6.9:\n",
    "        print(\"Regular ⚠️\")\n",
    "elif nota > 3.0 and nota <=4.9:\n",
    "        print(\"Ruim 🚫\")\n",
    "elif nota > 0.0 and nota <=2.9:\n",
    "        print(\" Crítico 🚨\")\n",
    "else: \n",
    "        print(\"Fora do intervalo critico\")"
   ]
  },
  {
   "cell_type": "code",
   "execution_count": null,
   "id": "382f5df7",
   "metadata": {},
   "outputs": [],
   "source": []
  }
 ],
 "metadata": {
  "kernelspec": {
   "display_name": ".venv",
   "language": "python",
   "name": "python3"
  },
  "language_info": {
   "codemirror_mode": {
    "name": "ipython",
    "version": 3
   },
   "file_extension": ".py",
   "mimetype": "text/x-python",
   "name": "python",
   "nbconvert_exporter": "python",
   "pygments_lexer": "ipython3",
   "version": "3.13.2"
  }
 },
 "nbformat": 4,
 "nbformat_minor": 5
}
